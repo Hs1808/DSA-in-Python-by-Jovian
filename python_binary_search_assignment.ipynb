{
  "cells": [
    {
      "cell_type": "markdown",
      "metadata": {
        "id": "view-in-github",
        "colab_type": "text"
      },
      "source": [
        "<a href=\"https://colab.research.google.com/github/Hs1808/DSA-in-Python-by-Jovian/blob/main/python_binary_search_assignment.ipynb\" target=\"_parent\"><img src=\"https://colab.research.google.com/assets/colab-badge.svg\" alt=\"Open In Colab\"/></a>"
      ]
    },
    {
      "cell_type": "markdown",
      "id": "requested-power",
      "metadata": {
        "id": "requested-power"
      },
      "source": [
        "# Assignment 1 - Binary Search Practice\n",
        "\n",
        "_This assignment is a part of the course [\"Data Structures and Algorithms in Python\"](https://jovian.ai/learn/data-structures-and-algorithms-in-python)._\n",
        "\n",
        "In this assignment, you'll get to practice some of the concepts and skills covered in the following notebooks:\n",
        "\n",
        "1. [Binary Search and Complexity Analysis](https://jovian.ai/aakashns/python-binary-search)\n",
        "3. [Solving Programming Problems Systematically](https://jovian.ai/aakashns/python-problem-solving-template)\n",
        "\n",
        "As you go through this notebook, you will find a **???** in certain places. To complete this assignment, you must replace all the **???** with appropriate values, expressions or statements to ensure that the notebook runs properly end-to-end.\n",
        "\n",
        "Some things to keep in mind:\n",
        "\n",
        "* Make sure to run all the code cells, otherwise you may get errors like `NameError` for undefined variables.\n",
        "* Do not change variable names, delete cells or disturb other existing code. It may cause problems during evaluation.\n",
        "* In some cases, you may need to add some code cells or new statements before or after the line of code containing the **???**.\n",
        "* Since you'll be using a temporary online service for code execution, save your work by running `jovian.commit` at regular intervals.\n",
        "* Questions marked **(Optional)** will not be considered for evaluation, and can be skipped. They are for your learning.\n",
        "\n",
        "You can make submissions on this page: https://jovian.ai/learn/data-structures-and-algorithms-in-python/assignment/assignment-1-binary-search-practice\n",
        "\n",
        "\n",
        "If you are stuck, you can ask for help on the community forum: https://jovian.ai/forum/c/data-structures-and-algorithms-in-python/assignment-1/87 . You can get help with errors or ask for hints, but **please don't ask for OR share the full working answer code** on the forum.\n",
        "\n"
      ]
    },
    {
      "cell_type": "markdown",
      "id": "incident-screw",
      "metadata": {
        "id": "incident-screw"
      },
      "source": [
        "## How to run the code and save your work\n",
        "\n",
        "The recommended way to run this notebook is to click the \"Run\" button at the top of this page, and select \"Run on Binder\". This will run the notebook on [mybinder.org](https://mybinder.org), a free online service for running Jupyter notebooks.\n",
        "\n",
        "This tutorial is an executable [Jupyter notebook](https://jupyter.org). You can _run_ this tutorial and experiment with the code examples in a couple of ways: *using free online resources* (recommended) or *on your computer*.\n",
        "\n",
        "#### Option 1: Running using free online resources (1-click, recommended)\n",
        "\n",
        "The easiest way to start executing the code is to click the **Run** button at the top of this page and select **Run on Binder**. You can also select \"Run on Colab\" or \"Run on Kaggle\", but you'll need to create an account on [Google Colab](https://colab.research.google.com) or [Kaggle](https://kaggle.com) to use these platforms.\n",
        "\n",
        "\n",
        "#### Option 2: Running on your computer locally\n",
        "\n",
        "To run the code on your computer locally, you'll need to set up [Python](https://www.python.org), download the notebook and install the required libraries. We recommend using the [Conda](https://docs.conda.io/projects/conda/en/latest/user-guide/install/) distribution of Python. Click the **Run** button at the top of this page, select the **Run Locally** option, and follow the instructions.\n",
        "\n",
        "#### Saving your work\n",
        "\n",
        "Before staring the assignment, let's save a snapshot of the assignment to your [Jovian](https://jovian.ai) profile, so that you can access it later, and continue your work."
      ]
    },
    {
      "cell_type": "code",
      "execution_count": 3,
      "id": "together-original",
      "metadata": {
        "colab": {
          "base_uri": "https://localhost:8080/"
        },
        "id": "together-original",
        "outputId": "c13fe48e-47b8-4e16-d8c0-8931c807c9ab"
      },
      "outputs": [
        {
          "output_type": "stream",
          "name": "stdout",
          "text": [
            "  Preparing metadata (setup.py) ... \u001b[?25l\u001b[?25hdone\n",
            "\u001b[?25l   \u001b[90m━━━━━━━━━━━━━━━━━━━━━━━━━━━━━━━━━━━━━━━━\u001b[0m \u001b[32m0.0/68.6 kB\u001b[0m \u001b[31m?\u001b[0m eta \u001b[36m-:--:--\u001b[0m\r\u001b[2K   \u001b[90m━━━━━━━━━━━━━━━━━━━━━━━━━━━━━━━━━━━━━━━━\u001b[0m \u001b[32m68.6/68.6 kB\u001b[0m \u001b[31m1.8 MB/s\u001b[0m eta \u001b[36m0:00:00\u001b[0m\n",
            "\u001b[?25h  Building wheel for uuid (setup.py) ... \u001b[?25l\u001b[?25hdone\n"
          ]
        }
      ],
      "source": [
        "!pip install jovian --upgrade --quiet"
      ]
    },
    {
      "cell_type": "code",
      "execution_count": 4,
      "id": "painful-receptor",
      "metadata": {
        "id": "painful-receptor"
      },
      "outputs": [],
      "source": [
        "import jovian"
      ]
    },
    {
      "cell_type": "code",
      "execution_count": 5,
      "id": "confirmed-stephen",
      "metadata": {
        "id": "confirmed-stephen"
      },
      "outputs": [],
      "source": [
        "project='python-binary-search-assignment'"
      ]
    },
    {
      "cell_type": "markdown",
      "id": "administrative-marketing",
      "metadata": {
        "id": "administrative-marketing"
      },
      "source": [
        "You may be asked to [provide an API Key](https://jovian.ai/docs/user-guide/upload.html) to upload your notebook. The privacy of your assignment notebook is set to \"Secret\", so that you can the evaluators can access it, but it will not shown on your public profile to other users.\n",
        "\n",
        "To continue working on a saved assignment, just visit [your profile](https://jovian.ai/) and run the saved notebook again."
      ]
    },
    {
      "cell_type": "markdown",
      "id": "conservative-worcester",
      "metadata": {
        "id": "conservative-worcester"
      },
      "source": [
        "## Problem - Rotated Lists\n",
        "\n",
        "We'll solve the following problem step-by-step:\n",
        "\n",
        "> You are given list of numbers, obtained by rotating a sorted list an unknown number of times. Write a function to determine the minimum number of times the original sorted list was rotated to obtain the given list. Your function should have the worst-case complexity of `O(log N)`, where N is the length of the list. You can assume that all the numbers in the list are unique.\n",
        ">\n",
        "> Example: The list `[5, 6, 9, 0, 2, 3, 4]` was obtained by rotating the sorted list `[0, 2, 3, 4, 5, 6, 9]` 3 times.\n",
        ">\n",
        "> We define \"rotating a list\" as removing the last element of the list and adding it before the first element. E.g. rotating the list `[3, 2, 4, 1]` produces `[1, 3, 2, 4]`.\n",
        ">\n",
        ">\"Sorted list\" refers to a list where the elements are arranged in the increasing order  e.g. `[1, 3, 5, 7]`.\n",
        ">"
      ]
    },
    {
      "cell_type": "markdown",
      "id": "popular-junction",
      "metadata": {
        "id": "popular-junction"
      },
      "source": [
        "## The Method\n",
        "\n",
        "Here's the systematic strategy we'll apply for solving problems:\n",
        "\n",
        "1. State the problem clearly. Identify the input & output formats.\n",
        "2. Come up with some example inputs & outputs. Try to cover all edge cases.\n",
        "3. Come up with a correct solution for the problem. State it in plain English.\n",
        "4. Implement the solution and test it using example inputs. Fix bugs, if any.\n",
        "5. Analyze the algorithm's complexity and identify inefficiencies, if any.\n",
        "6. Apply the right technique to overcome the inefficiency. Repeat steps 3 to 6.\n",
        "\n",
        "This approach is explained in detail in [Lesson 1](https://jovian.ai/learn/data-structures-and-algorithms-in-python/lesson/lesson-1-binary-search-linked-lists-and-complexity) of the course. Let's apply this approach step-by-step."
      ]
    },
    {
      "cell_type": "markdown",
      "id": "rotary-champion",
      "metadata": {
        "id": "rotary-champion"
      },
      "source": [
        " Solution\n",
        "\n",
        "\n",
        "### 1. State the problem clearly. Identify the input & output formats.\n",
        "\n",
        "While this problem is stated clearly enough, it's always useful to try and express in your own words, in a way that makes it most clear for you. It's perfectly OK if your description overlaps with the original problem statement to a large extent.\n",
        "\n",
        "<br/>\n",
        "\n",
        "_**Q: Express the problem in your own words below (to edit this cell, double click on it).**_\n",
        "\n",
        "**Problem**\n",
        "\n",
        "> ** In this Assignment, we have been given a sorted list which have been rotated a certain number of times which mean in each rotation last element of list is places at the top. We have to write a function to determine the number of rotations while maintaing the time complexity of O(logn). **\n",
        "\n",
        "<br/>\n",
        "\n",
        "_**Q: The function you write will take one input called `nums`. What does it represent? Give an example.**_\n",
        "\n",
        "**Input**\n",
        "\n",
        "1. `nums`: ** Num would repersent the given list of numbers. **\n",
        "\n",
        "<br/>\n",
        "\n",
        "_**Q: The function you write will return a single output called `rotations`. What does it represent? Give an example.**_\n",
        "\n",
        "**Output**\n",
        "\n",
        "3. `rotations`: **rotwould represnt the number of rotation performed on function which is being calculated by our function.**\n",
        "\n",
        "<br/>\n",
        "\n",
        "Based on the above, we can now create a signature of our function:"
      ]
    },
    {
      "cell_type": "code",
      "execution_count": 6,
      "id": "adult-boring",
      "metadata": {
        "id": "adult-boring"
      },
      "outputs": [],
      "source": [
        "def count_rotations(nums):\n",
        "    pass"
      ]
    },
    {
      "cell_type": "markdown",
      "id": "logical-change",
      "metadata": {
        "id": "logical-change"
      },
      "source": [
        "After each, step remember to save your notebook"
      ]
    },
    {
      "cell_type": "markdown",
      "id": "stuck-application",
      "metadata": {
        "id": "stuck-application"
      },
      "source": [
        "### 2. Come up with some example inputs & outputs. Try to cover all edge cases.\n",
        "\n",
        "Our function should be able to handle any set of valid inputs we pass into it. Here's a list of some possible variations we might encounter:\n",
        "\n",
        "1. A list of size 10 rotated 3 times.\n",
        "2. A list of size 8 rotated 5 times.\n",
        "3. A list that wasn't rotated at all.\n",
        "4. A list that was rotated just once.\n",
        "5. A list that was rotated `n-1` times, where `n` is the size of the list.\n",
        "6. A list that was rotated `n` times (do you get back the original list here?)\n",
        "7. An empty list.\n",
        "8. A list containing just one element.\n",
        "9. (can you think of any more?)\n",
        "\n",
        "We'll express our test cases as dictionaries, to test them easily. Each dictionary will contain 2 keys: `input` (a dictionary itself containing one key for each argument to the function and `output` (the expected result from the function). Here's an example."
      ]
    },
    {
      "cell_type": "code",
      "execution_count": 7,
      "id": "incoming-assumption",
      "metadata": {
        "id": "incoming-assumption"
      },
      "outputs": [],
      "source": [
        "test = {\n",
        "    'input': {\n",
        "        'nums': [19, 25, 29, 3, 5, 6, 7, 9, 11, 14]\n",
        "    },\n",
        "    'output': 3\n",
        "}"
      ]
    },
    {
      "cell_type": "markdown",
      "id": "nervous-austin",
      "metadata": {
        "id": "nervous-austin"
      },
      "source": [
        "We can test the function by passing the input to it directly or by using the `evaluate_test_case` function from `jovian`."
      ]
    },
    {
      "cell_type": "code",
      "execution_count": 8,
      "id": "moral-glenn",
      "metadata": {
        "colab": {
          "base_uri": "https://localhost:8080/"
        },
        "id": "moral-glenn",
        "outputId": "faa87e46-9297-43aa-c213-07afb7ba9175"
      },
      "outputs": [
        {
          "output_type": "execute_result",
          "data": {
            "text/plain": [
              "(None, False)"
            ]
          },
          "metadata": {},
          "execution_count": 8
        }
      ],
      "source": [
        "nums0 = test['input']['nums']\n",
        "output0 = test['input']['nums']\n",
        "result0 = count_rotations(nums0)\n",
        "\n",
        "result0, result0 == output0"
      ]
    },
    {
      "cell_type": "code",
      "execution_count": 9,
      "id": "official-theology",
      "metadata": {
        "id": "official-theology"
      },
      "outputs": [],
      "source": [
        "from jovian.pythondsa import evaluate_test_case"
      ]
    },
    {
      "cell_type": "code",
      "execution_count": 10,
      "id": "charitable-daniel",
      "metadata": {
        "colab": {
          "base_uri": "https://localhost:8080/"
        },
        "id": "charitable-daniel",
        "outputId": "2c8ad622-25d5-477e-fa0e-1736a7d74a5f"
      },
      "outputs": [
        {
          "output_type": "stream",
          "name": "stdout",
          "text": [
            "\n",
            "Input:\n",
            "{'nums': [19, 25, 29, 3, 5, 6, 7, 9, 11, 14]}\n",
            "\n",
            "Expected Output:\n",
            "3\n",
            "\n",
            "\n",
            "Actual Output:\n",
            "None\n",
            "\n",
            "Execution Time:\n",
            "0.004 ms\n",
            "\n",
            "Test Result:\n",
            "\u001b[91mFAILED\u001b[0m\n",
            "\n"
          ]
        },
        {
          "output_type": "execute_result",
          "data": {
            "text/plain": [
              "(None, False, 0.004)"
            ]
          },
          "metadata": {},
          "execution_count": 10
        }
      ],
      "source": [
        "evaluate_test_case(count_rotations, test)"
      ]
    },
    {
      "cell_type": "markdown",
      "id": "saved-carnival",
      "metadata": {
        "id": "saved-carnival"
      },
      "source": [
        "Let's create one test case for each of the scenarios listed above. We'll store our test cases in an array called `tests`."
      ]
    },
    {
      "cell_type": "markdown",
      "id": "neither-stability",
      "metadata": {
        "id": "neither-stability"
      },
      "source": [
        "_**Q: Create proper test cases for each of the scenarios listed above.**_"
      ]
    },
    {
      "cell_type": "code",
      "execution_count": 11,
      "id": "egyptian-recording",
      "metadata": {
        "id": "egyptian-recording"
      },
      "outputs": [],
      "source": [
        "test0 = test"
      ]
    },
    {
      "cell_type": "code",
      "execution_count": 12,
      "id": "capital-milwaukee",
      "metadata": {
        "id": "capital-milwaukee"
      },
      "outputs": [],
      "source": [
        "# A list of size 8 rotated 5 times.\n",
        "test1 = {\n",
        "    'input': {\n",
        "        'nums': [4, 5, 6, 7, 8, 1, 2, 3]\n",
        "    },\n",
        "    'output': 5\n",
        "}"
      ]
    },
    {
      "cell_type": "code",
      "execution_count": 13,
      "id": "simple-variable",
      "metadata": {
        "id": "simple-variable"
      },
      "outputs": [],
      "source": [
        "# A list that wasn't rotated at all.\n",
        "test2 = {\n",
        "    'input': {\n",
        "        'nums': [1, 2, 3, 4, 5, 6, 7, 8]\n",
        "    },\n",
        "    'output': 0\n",
        "}"
      ]
    },
    {
      "cell_type": "markdown",
      "id": "bright-accessory",
      "metadata": {
        "id": "bright-accessory"
      },
      "source": [
        "A list that was rotated just once.\n",
        "A list that was rotated n-1 times, where n is the size of the list.\n",
        "A list that was rotated n times (do you get back the original list here?)\n",
        "An empty list.\n",
        "A list containing just one element."
      ]
    },
    {
      "cell_type": "code",
      "execution_count": 14,
      "id": "pursuant-facility",
      "metadata": {
        "id": "pursuant-facility"
      },
      "outputs": [],
      "source": [
        "# A list that was rotated just once.\n",
        "test3 = {\n",
        "    'input': {\n",
        "        'nums': [8,1, 2, 3, 4, 5, 6, 7]\n",
        "    },\n",
        "    'output': 1\n",
        "}"
      ]
    },
    {
      "cell_type": "code",
      "execution_count": 15,
      "id": "boring-minimum",
      "metadata": {
        "id": "boring-minimum"
      },
      "outputs": [],
      "source": [
        "# A list that was rotated n-1 times, where n is the size of the list.\n",
        "test4 = {\n",
        "    'input': {\n",
        "        'nums': [2, 3, 4, 5, 6, 7, 8, 1]\n",
        "\n",
        "    },\n",
        "    'output': 7\n",
        "}"
      ]
    },
    {
      "cell_type": "code",
      "execution_count": 16,
      "id": "tamil-iceland",
      "metadata": {
        "id": "tamil-iceland"
      },
      "outputs": [],
      "source": [
        "# A list that was rotated n times, where n is the size of the list\n",
        "test5 = {\n",
        "    'input': {\n",
        "        'nums': [1, 2, 3, 4, 5, 6, 7, 8]\n",
        "    },\n",
        "    'output': 0\n",
        "}"
      ]
    },
    {
      "cell_type": "markdown",
      "id": "sweet-ideal",
      "metadata": {
        "id": "sweet-ideal"
      },
      "source": [
        "**HINT**: Read the question carefully to determine the correct output for the above test case."
      ]
    },
    {
      "cell_type": "code",
      "execution_count": 17,
      "id": "shared-cream",
      "metadata": {
        "id": "shared-cream"
      },
      "outputs": [],
      "source": [
        "# An empty list.\n",
        "test6 = {\n",
        "    'input': {\n",
        "        'nums': []\n",
        "    },\n",
        "    'output': -1\n",
        "}"
      ]
    },
    {
      "cell_type": "code",
      "execution_count": 18,
      "id": "advanced-career",
      "metadata": {
        "id": "advanced-career"
      },
      "outputs": [],
      "source": [
        "# A list containing just one element.\n",
        "test7 = {\n",
        "    'input': {\n",
        "        'nums': [1]\n",
        "    },\n",
        "    'output': 0\n",
        "}"
      ]
    },
    {
      "cell_type": "code",
      "execution_count": 19,
      "id": "romantic-zambia",
      "metadata": {
        "id": "romantic-zambia"
      },
      "outputs": [],
      "source": [
        "tests = [test0, test1, test2, test3, test3, test5, test6, test7]"
      ]
    },
    {
      "cell_type": "markdown",
      "id": "three-factory",
      "metadata": {
        "id": "three-factory"
      },
      "source": [
        "_**Q (Optional): Include any further test cases below, for other interesting scenarios you can think of.**_"
      ]
    },
    {
      "cell_type": "code",
      "execution_count": 19,
      "id": "infrared-worship",
      "metadata": {
        "id": "infrared-worship"
      },
      "outputs": [],
      "source": []
    },
    {
      "cell_type": "code",
      "execution_count": 19,
      "id": "stable-strategy",
      "metadata": {
        "id": "stable-strategy"
      },
      "outputs": [],
      "source": []
    },
    {
      "cell_type": "markdown",
      "id": "arabic-davis",
      "metadata": {
        "id": "arabic-davis"
      },
      "source": [
        "Evaluate your function against all the test cases together using the `evaluate_test_cases` (plural) function from `jovian`."
      ]
    },
    {
      "cell_type": "code",
      "execution_count": 20,
      "id": "sophisticated-michael",
      "metadata": {
        "id": "sophisticated-michael"
      },
      "outputs": [],
      "source": [
        "from jovian.pythondsa import evaluate_test_cases"
      ]
    },
    {
      "cell_type": "code",
      "execution_count": 21,
      "id": "major-height",
      "metadata": {
        "colab": {
          "base_uri": "https://localhost:8080/"
        },
        "id": "major-height",
        "outputId": "ed64aff1-4f2d-4a0e-a03a-b9b894d7a437"
      },
      "outputs": [
        {
          "output_type": "stream",
          "name": "stdout",
          "text": [
            "\n",
            "\u001b[1mTEST CASE #0\u001b[0m\n",
            "\n",
            "Input:\n",
            "{'nums': [19, 25, 29, 3, 5, 6, 7, 9, 11, 14]}\n",
            "\n",
            "Expected Output:\n",
            "3\n",
            "\n",
            "\n",
            "Actual Output:\n",
            "None\n",
            "\n",
            "Execution Time:\n",
            "0.003 ms\n",
            "\n",
            "Test Result:\n",
            "\u001b[91mFAILED\u001b[0m\n",
            "\n",
            "\n",
            "\u001b[1mTEST CASE #1\u001b[0m\n",
            "\n",
            "Input:\n",
            "{'nums': [4, 5, 6, 7, 8, 1, 2, 3]}\n",
            "\n",
            "Expected Output:\n",
            "5\n",
            "\n",
            "\n",
            "Actual Output:\n",
            "None\n",
            "\n",
            "Execution Time:\n",
            "0.003 ms\n",
            "\n",
            "Test Result:\n",
            "\u001b[91mFAILED\u001b[0m\n",
            "\n",
            "\n",
            "\u001b[1mTEST CASE #2\u001b[0m\n",
            "\n",
            "Input:\n",
            "{'nums': [1, 2, 3, 4, 5, 6, 7, 8]}\n",
            "\n",
            "Expected Output:\n",
            "0\n",
            "\n",
            "\n",
            "Actual Output:\n",
            "None\n",
            "\n",
            "Execution Time:\n",
            "0.002 ms\n",
            "\n",
            "Test Result:\n",
            "\u001b[91mFAILED\u001b[0m\n",
            "\n",
            "\n",
            "\u001b[1mTEST CASE #3\u001b[0m\n",
            "\n",
            "Input:\n",
            "{'nums': [8, 1, 2, 3, 4, 5, 6, 7]}\n",
            "\n",
            "Expected Output:\n",
            "1\n",
            "\n",
            "\n",
            "Actual Output:\n",
            "None\n",
            "\n",
            "Execution Time:\n",
            "0.002 ms\n",
            "\n",
            "Test Result:\n",
            "\u001b[91mFAILED\u001b[0m\n",
            "\n",
            "\n",
            "\u001b[1mTEST CASE #4\u001b[0m\n",
            "\n",
            "Input:\n",
            "{'nums': [8, 1, 2, 3, 4, 5, 6, 7]}\n",
            "\n",
            "Expected Output:\n",
            "1\n",
            "\n",
            "\n",
            "Actual Output:\n",
            "None\n",
            "\n",
            "Execution Time:\n",
            "0.002 ms\n",
            "\n",
            "Test Result:\n",
            "\u001b[91mFAILED\u001b[0m\n",
            "\n",
            "\n",
            "\u001b[1mTEST CASE #5\u001b[0m\n",
            "\n",
            "Input:\n",
            "{'nums': [1, 2, 3, 4, 5, 6, 7, 8]}\n",
            "\n",
            "Expected Output:\n",
            "0\n",
            "\n",
            "\n",
            "Actual Output:\n",
            "None\n",
            "\n",
            "Execution Time:\n",
            "0.002 ms\n",
            "\n",
            "Test Result:\n",
            "\u001b[91mFAILED\u001b[0m\n",
            "\n",
            "\n",
            "\u001b[1mTEST CASE #6\u001b[0m\n",
            "\n",
            "Input:\n",
            "{'nums': []}\n",
            "\n",
            "Expected Output:\n",
            "-1\n",
            "\n",
            "\n",
            "Actual Output:\n",
            "None\n",
            "\n",
            "Execution Time:\n",
            "0.002 ms\n",
            "\n",
            "Test Result:\n",
            "\u001b[91mFAILED\u001b[0m\n",
            "\n",
            "\n",
            "\u001b[1mTEST CASE #7\u001b[0m\n",
            "\n",
            "Input:\n",
            "{'nums': [1]}\n",
            "\n",
            "Expected Output:\n",
            "0\n",
            "\n",
            "\n",
            "Actual Output:\n",
            "None\n",
            "\n",
            "Execution Time:\n",
            "0.002 ms\n",
            "\n",
            "Test Result:\n",
            "\u001b[91mFAILED\u001b[0m\n",
            "\n",
            "\n",
            "\u001b[1mSUMMARY\u001b[0m\n",
            "\n",
            "TOTAL: 8, \u001b[92mPASSED\u001b[0m: 0, \u001b[91mFAILED\u001b[0m: 8\n"
          ]
        },
        {
          "output_type": "execute_result",
          "data": {
            "text/plain": [
              "[(None, False, 0.003),\n",
              " (None, False, 0.003),\n",
              " (None, False, 0.002),\n",
              " (None, False, 0.002),\n",
              " (None, False, 0.002),\n",
              " (None, False, 0.002),\n",
              " (None, False, 0.002),\n",
              " (None, False, 0.002)]"
            ]
          },
          "metadata": {},
          "execution_count": 21
        }
      ],
      "source": [
        "evaluate_test_cases(count_rotations, tests)"
      ]
    },
    {
      "cell_type": "markdown",
      "id": "former-letters",
      "metadata": {
        "id": "former-letters"
      },
      "source": [
        "Verify that all the test cases were evaluated. We expect them all to fail, since we haven't implemented the function yet.\n",
        "\n",
        "Let's save our work before continuing."
      ]
    },
    {
      "cell_type": "code",
      "execution_count": 22,
      "id": "characteristic-termination",
      "metadata": {
        "colab": {
          "base_uri": "https://localhost:8080/"
        },
        "id": "characteristic-termination",
        "outputId": "fa8902a1-4b21-49ff-b401-e42e721fd67d"
      },
      "outputs": [
        {
          "output_type": "stream",
          "name": "stdout",
          "text": [
            "[jovian] Detected Colab notebook...\u001b[0m\n",
            "[jovian] jovian.commit() is no longer required on Google Colab. If you ran this notebook from Jovian, \n",
            "then just save this file in Colab using Ctrl+S/Cmd+S and it will be updated on Jovian. \n",
            "Also, you can also delete this cell, it's no longer necessary.\u001b[0m\n"
          ]
        }
      ],
      "source": [
        "jovian.commit(project=project)"
      ]
    },
    {
      "cell_type": "markdown",
      "id": "falling-calgary",
      "metadata": {
        "id": "falling-calgary"
      },
      "source": [
        "### 3. Come up with a correct solution for the problem. State it in plain English.\n",
        "\n",
        "Our first goal should always be to come up with a _correct_ solution to the problem, which may not necessarily be the most _efficient_ solution. Try to think of a solution before you read further.\n",
        "\n",
        "Coming up with the correct solution is quite easy, and it's based on this insight: If a list of sorted numbers is rotated `k` times, then the smallest number in the list ends up at position `k` (counting from 0). Further, it is the only number in the list which is smaller than the number before it. Thus, we simply need to **check for each number in the list whether it is smaller than the number that comes before it** (if there is a number before it). Then, our answer i.e. the number of rotations is simply the position of this number is . If we cannot find such a number, then the list wasn't rotated at all.\n",
        "\n",
        "Example: In the list `[19, 25, 29, 3, 5, 6, 7, 9, 11, 14]`, the number `3` is the only number smaller than its predecessor. It occurs at the position `3` (counting from `0`), hence the array was rotated `3` times.\n",
        "\n",
        "\n",
        "We can use the *linear search* algorithm as a first attempt to solve this problem i.e. we can perform the check for every position one by one. But first, try describing the above solution in your own words, that make it clear to you.\n",
        "\n",
        "_**Q (Optional): Describe the linear search solution explained above problem in your own words.**_\n",
        "\n",
        "1. **???**\n",
        "2. **???**\n",
        "3. **???**\n",
        "4. **???**\n",
        "\n",
        "(add more steps if required)\n",
        "\n",
        "\n",
        "Let's save and upload our work before continuing."
      ]
    },
    {
      "cell_type": "code",
      "execution_count": 23,
      "id": "seasonal-intro",
      "metadata": {
        "id": "seasonal-intro"
      },
      "outputs": [],
      "source": [
        "import jovian"
      ]
    },
    {
      "cell_type": "markdown",
      "id": "future-narrative",
      "metadata": {
        "id": "future-narrative"
      },
      "source": [
        "###  4. Implement the solution and test it using example inputs. Fix bugs, if any.\n",
        "\n",
        "_**Q: Implement the solution described in step 3.**_"
      ]
    },
    {
      "cell_type": "code",
      "execution_count": 24,
      "id": "oriental-founder",
      "metadata": {
        "id": "oriental-founder"
      },
      "outputs": [],
      "source": [
        "def count_rotations_linear(nums):\n",
        "    position = -1                 # What is the intial value of position?\n",
        "\n",
        "    while len(nums)!=0 and position<len(nums):                     # When should the loop be terminated?\n",
        "\n",
        "        # Success criteria: check whether the number at the current position is smaller than the one before it\n",
        "        if position >= 0 and nums[position-1] > nums[position]:   # How to perform the check?\n",
        "            return position\n",
        "        if(len(nums)==1):\n",
        "          return  0\n",
        "        # Move to the next position\n",
        "        position += 1\n",
        "\n",
        "    return position                     # What if none of the positions passed the check"
      ]
    },
    {
      "cell_type": "markdown",
      "id": "exempt-analysis",
      "metadata": {
        "id": "exempt-analysis"
      },
      "source": [
        "Let's test out the function with the first test case."
      ]
    },
    {
      "cell_type": "code",
      "execution_count": 25,
      "id": "acceptable-airline",
      "metadata": {
        "colab": {
          "base_uri": "https://localhost:8080/"
        },
        "id": "acceptable-airline",
        "outputId": "e7cf86c2-e5af-4eac-9a40-7dc5dcf1f520"
      },
      "outputs": [
        {
          "output_type": "stream",
          "name": "stdout",
          "text": [
            "\n",
            "Input:\n",
            "{'nums': [19, 25, 29, 3, 5, 6, 7, 9, 11, 14]}\n",
            "\n",
            "Expected Output:\n",
            "3\n",
            "\n",
            "\n",
            "Actual Output:\n",
            "3\n",
            "\n",
            "Execution Time:\n",
            "0.011 ms\n",
            "\n",
            "Test Result:\n",
            "\u001b[92mPASSED\u001b[0m\n",
            "\n"
          ]
        }
      ],
      "source": [
        "linear_search_result = evaluate_test_case(count_rotations_linear, test)"
      ]
    },
    {
      "cell_type": "markdown",
      "id": "organized-portfolio",
      "metadata": {
        "id": "organized-portfolio"
      },
      "source": [
        "Make sure your function passes the test. Fix bugs, if any.\n",
        "\n",
        "Let's test it out with all the test cases."
      ]
    },
    {
      "cell_type": "code",
      "execution_count": 26,
      "id": "cooperative-third",
      "metadata": {
        "colab": {
          "base_uri": "https://localhost:8080/"
        },
        "id": "cooperative-third",
        "outputId": "f7ddc02e-4439-4de1-b676-58564f15da48"
      },
      "outputs": [
        {
          "output_type": "stream",
          "name": "stdout",
          "text": [
            "\n",
            "\u001b[1mTEST CASE #0\u001b[0m\n",
            "\n",
            "Input:\n",
            "{'nums': [19, 25, 29, 3, 5, 6, 7, 9, 11, 14]}\n",
            "\n",
            "Expected Output:\n",
            "3\n",
            "\n",
            "\n",
            "Actual Output:\n",
            "3\n",
            "\n",
            "Execution Time:\n",
            "0.01 ms\n",
            "\n",
            "Test Result:\n",
            "\u001b[92mPASSED\u001b[0m\n",
            "\n",
            "\n",
            "\u001b[1mTEST CASE #1\u001b[0m\n",
            "\n",
            "Input:\n",
            "{'nums': [4, 5, 6, 7, 8, 1, 2, 3]}\n",
            "\n",
            "Expected Output:\n",
            "5\n",
            "\n",
            "\n",
            "Actual Output:\n",
            "5\n",
            "\n",
            "Execution Time:\n",
            "0.009 ms\n",
            "\n",
            "Test Result:\n",
            "\u001b[92mPASSED\u001b[0m\n",
            "\n",
            "\n",
            "\u001b[1mTEST CASE #2\u001b[0m\n",
            "\n",
            "Input:\n",
            "{'nums': [1, 2, 3, 4, 5, 6, 7, 8]}\n",
            "\n",
            "Expected Output:\n",
            "0\n",
            "\n",
            "\n",
            "Actual Output:\n",
            "0\n",
            "\n",
            "Execution Time:\n",
            "0.005 ms\n",
            "\n",
            "Test Result:\n",
            "\u001b[92mPASSED\u001b[0m\n",
            "\n",
            "\n",
            "\u001b[1mTEST CASE #3\u001b[0m\n",
            "\n",
            "Input:\n",
            "{'nums': [8, 1, 2, 3, 4, 5, 6, 7]}\n",
            "\n",
            "Expected Output:\n",
            "1\n",
            "\n",
            "\n",
            "Actual Output:\n",
            "1\n",
            "\n",
            "Execution Time:\n",
            "0.006 ms\n",
            "\n",
            "Test Result:\n",
            "\u001b[92mPASSED\u001b[0m\n",
            "\n",
            "\n",
            "\u001b[1mTEST CASE #4\u001b[0m\n",
            "\n",
            "Input:\n",
            "{'nums': [8, 1, 2, 3, 4, 5, 6, 7]}\n",
            "\n",
            "Expected Output:\n",
            "1\n",
            "\n",
            "\n",
            "Actual Output:\n",
            "1\n",
            "\n",
            "Execution Time:\n",
            "0.004 ms\n",
            "\n",
            "Test Result:\n",
            "\u001b[92mPASSED\u001b[0m\n",
            "\n",
            "\n",
            "\u001b[1mTEST CASE #5\u001b[0m\n",
            "\n",
            "Input:\n",
            "{'nums': [1, 2, 3, 4, 5, 6, 7, 8]}\n",
            "\n",
            "Expected Output:\n",
            "0\n",
            "\n",
            "\n",
            "Actual Output:\n",
            "0\n",
            "\n",
            "Execution Time:\n",
            "0.007 ms\n",
            "\n",
            "Test Result:\n",
            "\u001b[92mPASSED\u001b[0m\n",
            "\n",
            "\n",
            "\u001b[1mTEST CASE #6\u001b[0m\n",
            "\n",
            "Input:\n",
            "{'nums': []}\n",
            "\n",
            "Expected Output:\n",
            "-1\n",
            "\n",
            "\n",
            "Actual Output:\n",
            "-1\n",
            "\n",
            "Execution Time:\n",
            "0.007 ms\n",
            "\n",
            "Test Result:\n",
            "\u001b[92mPASSED\u001b[0m\n",
            "\n",
            "\n",
            "\u001b[1mTEST CASE #7\u001b[0m\n",
            "\n",
            "Input:\n",
            "{'nums': [1]}\n",
            "\n",
            "Expected Output:\n",
            "0\n",
            "\n",
            "\n",
            "Actual Output:\n",
            "0\n",
            "\n",
            "Execution Time:\n",
            "0.004 ms\n",
            "\n",
            "Test Result:\n",
            "\u001b[92mPASSED\u001b[0m\n",
            "\n",
            "\n",
            "\u001b[1mSUMMARY\u001b[0m\n",
            "\n",
            "TOTAL: 8, \u001b[92mPASSED\u001b[0m: 8, \u001b[91mFAILED\u001b[0m: 0\n"
          ]
        }
      ],
      "source": [
        "linear_search_results = evaluate_test_cases(count_rotations_linear, tests)"
      ]
    },
    {
      "cell_type": "markdown",
      "id": "statistical-lending",
      "metadata": {
        "id": "statistical-lending"
      },
      "source": [
        "Once again, make sure all the tests pass. Fix errors and bugs, if any.\n",
        "\n",
        "**NOTE**: During evaluation, your submission will be tested against a much larger set of test cases (not listed here). Make sure to test your solution thoroughly.\n",
        "\n",
        "If you are stuck, you can ask for help on the community forum: https://jovian.ai/forum/c/data-structures-and-algorithms-in-python/assignment-1/87 . You can get help with errors or ask for hints, but **please don't ask for OR share the full working answer code** on the forum."
      ]
    },
    {
      "cell_type": "markdown",
      "id": "economic-spray",
      "metadata": {
        "id": "economic-spray"
      },
      "source": [
        "### 5. Analyze the algorithm's complexity and identify inefficiencies, if any.\n",
        "\n",
        "Count the maximum number of iterations it may take for the algorithm to return the result.\n",
        "\n",
        "_**Q: What is the worst-case complexity (running time) of the algorithm expressed in the Big O Notation? Assume that the size of the list is `N` (uppercase).**_\n"
      ]
    },
    {
      "cell_type": "code",
      "execution_count": 27,
      "id": "attended-indonesia",
      "metadata": {
        "id": "attended-indonesia"
      },
      "outputs": [],
      "source": [
        "linear_search_complexity = \"O(N)\""
      ]
    },
    {
      "cell_type": "markdown",
      "id": "pregnant-steal",
      "metadata": {
        "id": "pregnant-steal"
      },
      "source": [
        "### 6. Apply the right technique to overcome the inefficiency. Repeat steps 3 to 6.\n",
        "\n",
        "As you might have guessed, we can apply _Binary Search_ to solve this problem. The key question we need to answer in binary search is: Given the middle element, how to decide if it is the answer (smallest number), or whether the answer lies to the left or right of it.\n",
        "\n",
        "If the middle element is smaller than its predecessor, then it is the answer. However, if it isn't, this check is not sufficient to determine whether the answer lies to the left or the right of it. Consider the following examples.\n",
        "\n",
        "`[7, 8, 1, 3, 4, 5, 6]` (answer lies to the left of the middle element)\n",
        "\n",
        "`[1, 2, 3, 4, 5, -1, 0]` (answer lies to the right of the middle element)\n",
        "\n",
        "Here's a check that will help us determine if the answer lies to the left or the right: _If the middle element of the list is smaller than the last element of the range, then the answer lies to the left of it. Otherwise, the answer lies to the right._\n",
        "\n",
        "Do you see why this strategy works?\n"
      ]
    },
    {
      "cell_type": "markdown",
      "id": "static-finder",
      "metadata": {
        "id": "static-finder"
      },
      "source": [
        "### 7. Come up with a correct solution for the problem. State it in plain English.\n",
        "\n",
        "Before we implement the solution, it's useful to describe it in a way that makes most sense to you. In a coding interview, you will almost certainly be asked to describe your approach before you start writing code.\n",
        "\n",
        "_**Q (Optional): Describe the binary search solution explained above problem in your own words.**_\n",
        "\n",
        "1. **Check the middle**\n",
        "2. **if middle greater greater than last element than check elements right to middle otherwise check left side**\n",
        "3. **Repeat 1 and 2 unless middle is smaller than both side**\n",
        "4. **return the idx of middle**\n",
        "\n",
        "(add more steps if required)\n",
        "\n",
        "Let's save and upload our work before continuing."
      ]
    },
    {
      "cell_type": "code",
      "execution_count": 28,
      "id": "chronic-notebook",
      "metadata": {
        "id": "chronic-notebook",
        "colab": {
          "base_uri": "https://localhost:8080/"
        },
        "outputId": "3ef1080f-b88f-4b67-fe84-95058fe7c79c"
      },
      "outputs": [
        {
          "output_type": "stream",
          "name": "stdout",
          "text": [
            "[jovian] Detected Colab notebook...\u001b[0m\n",
            "[jovian] jovian.commit() is no longer required on Google Colab. If you ran this notebook from Jovian, \n",
            "then just save this file in Colab using Ctrl+S/Cmd+S and it will be updated on Jovian. \n",
            "Also, you can also delete this cell, it's no longer necessary.\u001b[0m\n"
          ]
        }
      ],
      "source": [
        "jovian.commit(project=project)"
      ]
    },
    {
      "cell_type": "markdown",
      "id": "recorded-directive",
      "metadata": {
        "id": "recorded-directive"
      },
      "source": [
        "### 8. Implement the solution and test it using example inputs. Fix bugs, if any.\n",
        "\n",
        "*__Q: Implement the binary search solution described in step 7.__*\n",
        "\n",
        "If you are stuck, you can ask for help on the community forum: https://jovian.ai/forum/c/data-structures-and-algorithms-in-python/assignment-1/87 . You can get help with errors or ask for hints, but **please don't ask for OR share the full working answer code** on the forum."
      ]
    },
    {
      "cell_type": "code",
      "execution_count": 29,
      "id": "complete-thing",
      "metadata": {
        "id": "complete-thing"
      },
      "outputs": [],
      "source": [
        "def count_rotations_binary(nums):\n",
        "    lo = 0\n",
        "    hi = len(nums) - 1\n",
        "    mid=-1\n",
        "    while lo<=hi:\n",
        "        mid = (hi + lo)//2\n",
        "        mid_number = nums[mid]\n",
        "\n",
        "        # Uncomment the next line for logging the values and fixing errors.\n",
        "        print(\"lo:\", lo, \", hi:\", hi, \", mid:\", mid, \", mid_number:\", mid_number)\n",
        "\n",
        "        if mid > 0 and nums[mid-1]>mid_number and nums[mid+1]>mid_number:\n",
        "            # The middle position is the answer\n",
        "            return mid\n",
        "\n",
        "        elif mid > 0 and nums[hi]>mid_number:\n",
        "            # Answer lies in the left half\n",
        "            hi = mid - 1\n",
        "\n",
        "        else:\n",
        "            # Answer lies in the right half\n",
        "            lo = mid + 1\n",
        "\n",
        "    return mid"
      ]
    },
    {
      "cell_type": "markdown",
      "id": "parliamentary-element",
      "metadata": {
        "id": "parliamentary-element"
      },
      "source": [
        "Let's test out the function with the first test case."
      ]
    },
    {
      "cell_type": "code",
      "execution_count": 30,
      "id": "assigned-worth",
      "metadata": {
        "colab": {
          "base_uri": "https://localhost:8080/"
        },
        "id": "assigned-worth",
        "outputId": "1e912e06-a76a-4eb7-df25-50e4e660d365"
      },
      "outputs": [
        {
          "output_type": "stream",
          "name": "stdout",
          "text": [
            "\n",
            "Input:\n",
            "{'nums': [19, 25, 29, 3, 5, 6, 7, 9, 11, 14]}\n",
            "\n",
            "Expected Output:\n",
            "3\n",
            "\n",
            "lo: 0 , hi: 9 , mid: 4 , mid_number: 5\n",
            "lo: 0 , hi: 3 , mid: 1 , mid_number: 25\n",
            "lo: 2 , hi: 3 , mid: 2 , mid_number: 29\n",
            "lo: 3 , hi: 3 , mid: 3 , mid_number: 3\n",
            "\n",
            "Actual Output:\n",
            "3\n",
            "\n",
            "Execution Time:\n",
            "12.135 ms\n",
            "\n",
            "Test Result:\n",
            "\u001b[92mPASSED\u001b[0m\n",
            "\n"
          ]
        }
      ],
      "source": [
        "binary_search_result = evaluate_test_case(count_rotations_binary, test)"
      ]
    },
    {
      "cell_type": "markdown",
      "id": "noted-planning",
      "metadata": {
        "id": "noted-planning"
      },
      "source": [
        "Make sure your function passes the test. Fix bugs, if any.\n",
        "\n",
        "Let's test it out with all the test cases."
      ]
    },
    {
      "cell_type": "code",
      "execution_count": 31,
      "id": "operational-symposium",
      "metadata": {
        "colab": {
          "base_uri": "https://localhost:8080/"
        },
        "id": "operational-symposium",
        "outputId": "a98c06fb-c00d-48d4-b9c4-bb836f87145c"
      },
      "outputs": [
        {
          "output_type": "stream",
          "name": "stdout",
          "text": [
            "\n",
            "\u001b[1mTEST CASE #0\u001b[0m\n",
            "lo: 0 , hi: 9 , mid: 4 , mid_number: 5\n",
            "lo: 0 , hi: 3 , mid: 1 , mid_number: 25\n",
            "lo: 2 , hi: 3 , mid: 2 , mid_number: 29\n",
            "lo: 3 , hi: 3 , mid: 3 , mid_number: 3\n",
            "\n",
            "Input:\n",
            "{'nums': [19, 25, 29, 3, 5, 6, 7, 9, 11, 14]}\n",
            "\n",
            "Expected Output:\n",
            "3\n",
            "\n",
            "\n",
            "Actual Output:\n",
            "3\n",
            "\n",
            "Execution Time:\n",
            "8.215 ms\n",
            "\n",
            "Test Result:\n",
            "\u001b[92mPASSED\u001b[0m\n",
            "\n",
            "\n",
            "\u001b[1mTEST CASE #1\u001b[0m\n",
            "lo: 0 , hi: 7 , mid: 3 , mid_number: 7\n",
            "lo: 4 , hi: 7 , mid: 5 , mid_number: 1\n",
            "\n",
            "Input:\n",
            "{'nums': [4, 5, 6, 7, 8, 1, 2, 3]}\n",
            "\n",
            "Expected Output:\n",
            "5\n",
            "\n",
            "\n",
            "Actual Output:\n",
            "5\n",
            "\n",
            "Execution Time:\n",
            "0.235 ms\n",
            "\n",
            "Test Result:\n",
            "\u001b[92mPASSED\u001b[0m\n",
            "\n",
            "\n",
            "\u001b[1mTEST CASE #2\u001b[0m\n",
            "lo: 0 , hi: 7 , mid: 3 , mid_number: 4\n",
            "lo: 0 , hi: 2 , mid: 1 , mid_number: 2\n",
            "lo: 0 , hi: 0 , mid: 0 , mid_number: 1\n",
            "\n",
            "Input:\n",
            "{'nums': [1, 2, 3, 4, 5, 6, 7, 8]}\n",
            "\n",
            "Expected Output:\n",
            "0\n",
            "\n",
            "\n",
            "Actual Output:\n",
            "0\n",
            "\n",
            "Execution Time:\n",
            "0.636 ms\n",
            "\n",
            "Test Result:\n",
            "\u001b[92mPASSED\u001b[0m\n",
            "\n",
            "\n",
            "\u001b[1mTEST CASE #3\u001b[0m\n",
            "lo: 0 , hi: 7 , mid: 3 , mid_number: 3\n",
            "lo: 0 , hi: 2 , mid: 1 , mid_number: 1\n",
            "\n",
            "Input:\n",
            "{'nums': [8, 1, 2, 3, 4, 5, 6, 7]}\n",
            "\n",
            "Expected Output:\n",
            "1\n",
            "\n",
            "\n",
            "Actual Output:\n",
            "1\n",
            "\n",
            "Execution Time:\n",
            "2.609 ms\n",
            "\n",
            "Test Result:\n",
            "\u001b[92mPASSED\u001b[0m\n",
            "\n",
            "\n",
            "\u001b[1mTEST CASE #4\u001b[0m\n",
            "lo: 0 , hi: 7 , mid: 3 , mid_number: 3\n",
            "lo: 0 , hi: 2 , mid: 1 , mid_number: 1\n",
            "\n",
            "Input:\n",
            "{'nums': [8, 1, 2, 3, 4, 5, 6, 7]}\n",
            "\n",
            "Expected Output:\n",
            "1\n",
            "\n",
            "\n",
            "Actual Output:\n",
            "1\n",
            "\n",
            "Execution Time:\n",
            "0.211 ms\n",
            "\n",
            "Test Result:\n",
            "\u001b[92mPASSED\u001b[0m\n",
            "\n",
            "\n",
            "\u001b[1mTEST CASE #5\u001b[0m\n",
            "lo: 0 , hi: 7 , mid: 3 , mid_number: 4\n",
            "lo: 0 , hi: 2 , mid: 1 , mid_number: 2\n",
            "lo: 0 , hi: 0 , mid: 0 , mid_number: 1\n",
            "\n",
            "Input:\n",
            "{'nums': [1, 2, 3, 4, 5, 6, 7, 8]}\n",
            "\n",
            "Expected Output:\n",
            "0\n",
            "\n",
            "\n",
            "Actual Output:\n",
            "0\n",
            "\n",
            "Execution Time:\n",
            "0.343 ms\n",
            "\n",
            "Test Result:\n",
            "\u001b[92mPASSED\u001b[0m\n",
            "\n",
            "\n",
            "\u001b[1mTEST CASE #6\u001b[0m\n",
            "\n",
            "Input:\n",
            "{'nums': []}\n",
            "\n",
            "Expected Output:\n",
            "-1\n",
            "\n",
            "\n",
            "Actual Output:\n",
            "-1\n",
            "\n",
            "Execution Time:\n",
            "0.004 ms\n",
            "\n",
            "Test Result:\n",
            "\u001b[92mPASSED\u001b[0m\n",
            "\n",
            "\n",
            "\u001b[1mTEST CASE #7\u001b[0m\n",
            "lo: 0 , hi: 0 , mid: 0 , mid_number: 1\n",
            "\n",
            "Input:\n",
            "{'nums': [1]}\n",
            "\n",
            "Expected Output:\n",
            "0\n",
            "\n",
            "\n",
            "Actual Output:\n",
            "0\n",
            "\n",
            "Execution Time:\n",
            "0.105 ms\n",
            "\n",
            "Test Result:\n",
            "\u001b[92mPASSED\u001b[0m\n",
            "\n",
            "\n",
            "\u001b[1mSUMMARY\u001b[0m\n",
            "\n",
            "TOTAL: 8, \u001b[92mPASSED\u001b[0m: 8, \u001b[91mFAILED\u001b[0m: 0\n"
          ]
        }
      ],
      "source": [
        "binary_search_results = evaluate_test_cases(count_rotations_binary, tests)"
      ]
    },
    {
      "cell_type": "markdown",
      "id": "normal-gregory",
      "metadata": {
        "id": "normal-gregory"
      },
      "source": [
        "Once again, make sure all the tests pass. Fix errors and bugs, if any.\n",
        "\n",
        "**NOTE**: During evaluation, your submission will be tested against a much larger set of test cases (not listed here). Make sure to test your solution thoroughly.\n",
        "\n",
        "If you are stuck, you can ask for help on the community forum: https://jovian.ai/forum/c/data-structures-and-algorithms-in-python/assignment-1/87 . You can get help with errors or ask for hints, but **please don't ask for OR share the full working answer code** on the forum.\n",
        "\n",
        "Let's save our work before continuing."
      ]
    },
    {
      "cell_type": "code",
      "execution_count": 32,
      "id": "amateur-stomach",
      "metadata": {
        "id": "amateur-stomach",
        "colab": {
          "base_uri": "https://localhost:8080/"
        },
        "outputId": "e1fc56b6-c9ed-46c0-a830-ddf67746103d"
      },
      "outputs": [
        {
          "output_type": "stream",
          "name": "stdout",
          "text": [
            "[jovian] Detected Colab notebook...\u001b[0m\n",
            "[jovian] jovian.commit() is no longer required on Google Colab. If you ran this notebook from Jovian, \n",
            "then just save this file in Colab using Ctrl+S/Cmd+S and it will be updated on Jovian. \n",
            "Also, you can also delete this cell, it's no longer necessary.\u001b[0m\n"
          ]
        }
      ],
      "source": [
        "jovian.commit(project=project)"
      ]
    },
    {
      "cell_type": "markdown",
      "id": "honey-cosmetic",
      "metadata": {
        "id": "honey-cosmetic"
      },
      "source": [
        "### 9. Analyze the algorithm's complexity and identify inefficiencies, if any.\n",
        "\n",
        "_**Q: What is the worst-case complexity (running time) of the algorithm expressed in the Big O Notation? Assume that the size of the list is `N` (uppercase).**_\n",
        "\n",
        "Hint: Count the maximum number of iterations it may take for the algorithm to return the result."
      ]
    },
    {
      "cell_type": "code",
      "execution_count": 33,
      "id": "negative-metallic",
      "metadata": {
        "id": "negative-metallic"
      },
      "outputs": [],
      "source": [
        "binary_search_complexity = \"O(logN)\""
      ]
    },
    {
      "cell_type": "markdown",
      "id": "round-lounge",
      "metadata": {
        "id": "round-lounge"
      },
      "source": [
        "Is binary search the optimal solution to the problem? How can you prove it? Discuss in the forums.\n",
        "\n",
        "Let's save our work before continuing."
      ]
    },
    {
      "cell_type": "code",
      "execution_count": 34,
      "id": "smooth-delicious",
      "metadata": {
        "id": "smooth-delicious"
      },
      "outputs": [],
      "source": [
        "import jovian"
      ]
    },
    {
      "cell_type": "code",
      "execution_count": 35,
      "id": "graphic-separation",
      "metadata": {
        "id": "graphic-separation",
        "colab": {
          "base_uri": "https://localhost:8080/"
        },
        "outputId": "01499c61-626d-4a59-f0b9-504ed77216b7"
      },
      "outputs": [
        {
          "output_type": "stream",
          "name": "stdout",
          "text": [
            "[jovian] Detected Colab notebook...\u001b[0m\n",
            "[jovian] jovian.commit() is no longer required on Google Colab. If you ran this notebook from Jovian, \n",
            "then just save this file in Colab using Ctrl+S/Cmd+S and it will be updated on Jovian. \n",
            "Also, you can also delete this cell, it's no longer necessary.\u001b[0m\n"
          ]
        }
      ],
      "source": [
        "jovian.commit()"
      ]
    },
    {
      "cell_type": "markdown",
      "id": "nominated-orleans",
      "metadata": {
        "id": "nominated-orleans"
      },
      "source": [
        "## Make a Submission\n",
        "\n",
        "To make a submission, visit the [assignment page](https://jovian.ai/learn/data-structures-and-algorithms-in-python/assignment/assignment-1-binary-search-practice) and submit the link to your notebook.\n",
        "\n",
        "You can also make a submission by executing the following statement:"
      ]
    },
    {
      "cell_type": "code",
      "execution_count": 36,
      "id": "sticky-motel",
      "metadata": {
        "colab": {
          "base_uri": "https://localhost:8080/"
        },
        "id": "sticky-motel",
        "outputId": "c93c5482-8777-4af1-ffb6-cb15079b33ba"
      },
      "outputs": [
        {
          "output_type": "stream",
          "name": "stdout",
          "text": [
            "[jovian] Detected Colab notebook...\u001b[0m\n",
            "[jovian] jovian.commit() is no longer required on Google Colab. If you ran this notebook from Jovian, \n",
            "then just save this file in Colab using Ctrl+S/Cmd+S and it will be updated on Jovian. \n",
            "Also, you can also delete this cell, it's no longer necessary.\u001b[0m\n"
          ]
        }
      ],
      "source": [
        "jovian.submit(assignment=\"pythondsa-assignment1\")"
      ]
    },
    {
      "cell_type": "markdown",
      "id": "elder-cement",
      "metadata": {
        "id": "elder-cement"
      },
      "source": [
        "You can view your previous submissions under the \"Submission History\" section of the [assignment page](https://jovian.ai/learn/data-structures-and-algorithms-in-python/assignment/assignment-1-binary-search-practice). Only your last sumission will be considered for evaluation."
      ]
    },
    {
      "cell_type": "markdown",
      "id": "civilian-tyler",
      "metadata": {
        "id": "civilian-tyler"
      },
      "source": [
        "## Bonus Questions\n",
        "\n",
        "The questions in this section are optional, and will not affect your grade. Discuss the bonus questions here: https://jovian.ai/forum/t/optional-bonus-questions-discussion-assignment-1/15486\n",
        "\n",
        "You can also copy over the bonus questions to a new notebook to share your solution on the forum without sharing your assignment notebook. Duplicate this template: https://jovian.ai/aakashns/python-problem-solving-template\n",
        "\n",
        "\n",
        "### Optional Bonus 1: Using the Generic Binary Search Algorithm\n",
        "\n",
        "The `jovian` library provides a generic implementation of the binary search algorithm."
      ]
    },
    {
      "cell_type": "code",
      "execution_count": 37,
      "id": "severe-personal",
      "metadata": {
        "id": "severe-personal"
      },
      "outputs": [],
      "source": [
        "from jovian.pythondsa import binary_search"
      ]
    },
    {
      "cell_type": "markdown",
      "id": "positive-vessel",
      "metadata": {
        "id": "positive-vessel"
      },
      "source": [
        "You can view it's source code using the `??` command in Jupyter or on [the Github repository](https://github.com/JovianML/jovian-py/blob/master/jovian/pythondsa/__init__.py#L68) for the `jovian` library."
      ]
    },
    {
      "cell_type": "code",
      "execution_count": 38,
      "id": "protecting-brave",
      "metadata": {
        "id": "protecting-brave"
      },
      "outputs": [],
      "source": [
        "??binary_search"
      ]
    },
    {
      "cell_type": "markdown",
      "id": "direct-empty",
      "metadata": {
        "id": "direct-empty"
      },
      "source": [
        "_**Q (Optional): Implement the `count_rotations` function using the generic `binary_search` function.**_\n",
        "\n",
        "Hint: You'll need to define the condition which returns `\"found\"`, `\"left\"` or `\"right\"` by performing the appropriate check on the middle position in the range."
      ]
    },
    {
      "cell_type": "code",
      "execution_count": 39,
      "id": "amino-feedback",
      "metadata": {
        "id": "amino-feedback"
      },
      "outputs": [],
      "source": [
        "def count_rotations_generic(nums):\n",
        "    lo=0\n",
        "    hi=len(nums)-1\n",
        "\n",
        "    def condition(mid):\n",
        "      if mid >= 0 and ((nums[mid-1]>nums[mid] and nums[mid+1]>nums[mid]) or len(nums)==1):\n",
        "          # The middle position is the answer\n",
        "          return 'found'\n",
        "\n",
        "      elif mid > 0 and nums[hi]>nums[mid]:\n",
        "          # Answer lies in the left half\n",
        "          return 'left'\n",
        "\n",
        "      else:\n",
        "          # Answer lies in the right half\n",
        "            return 'right'\n",
        "\n",
        "    return binary_search(lo, hi, condition)"
      ]
    },
    {
      "cell_type": "code",
      "execution_count": 40,
      "id": "eastern-raising",
      "metadata": {
        "colab": {
          "base_uri": "https://localhost:8080/"
        },
        "id": "eastern-raising",
        "outputId": "84a205e7-e23f-459b-958d-7e9905145258"
      },
      "outputs": [
        {
          "output_type": "stream",
          "name": "stdout",
          "text": [
            "\n",
            "Input:\n",
            "{'nums': [19, 25, 29, 3, 5, 6, 7, 9, 11, 14]}\n",
            "\n",
            "Expected Output:\n",
            "3\n",
            "\n",
            "\n",
            "Actual Output:\n",
            "3\n",
            "\n",
            "Execution Time:\n",
            "0.016 ms\n",
            "\n",
            "Test Result:\n",
            "\u001b[92mPASSED\u001b[0m\n",
            "\n"
          ]
        },
        {
          "output_type": "execute_result",
          "data": {
            "text/plain": [
              "(3, True, 0.016)"
            ]
          },
          "metadata": {},
          "execution_count": 40
        }
      ],
      "source": [
        "evaluate_test_case(count_rotations_generic, test)"
      ]
    },
    {
      "cell_type": "code",
      "execution_count": 41,
      "id": "failing-monitoring",
      "metadata": {
        "colab": {
          "base_uri": "https://localhost:8080/"
        },
        "id": "failing-monitoring",
        "outputId": "094a2b38-7fa9-4b5a-aedd-cea22f62fd83"
      },
      "outputs": [
        {
          "output_type": "stream",
          "name": "stdout",
          "text": [
            "\n",
            "\u001b[1mTEST CASE #0\u001b[0m\n",
            "\n",
            "Input:\n",
            "{'nums': [19, 25, 29, 3, 5, 6, 7, 9, 11, 14]}\n",
            "\n",
            "Expected Output:\n",
            "3\n",
            "\n",
            "\n",
            "Actual Output:\n",
            "3\n",
            "\n",
            "Execution Time:\n",
            "0.016 ms\n",
            "\n",
            "Test Result:\n",
            "\u001b[92mPASSED\u001b[0m\n",
            "\n",
            "\n",
            "\u001b[1mTEST CASE #1\u001b[0m\n",
            "\n",
            "Input:\n",
            "{'nums': [4, 5, 6, 7, 8, 1, 2, 3]}\n",
            "\n",
            "Expected Output:\n",
            "5\n",
            "\n",
            "\n",
            "Actual Output:\n",
            "5\n",
            "\n",
            "Execution Time:\n",
            "0.007 ms\n",
            "\n",
            "Test Result:\n",
            "\u001b[92mPASSED\u001b[0m\n",
            "\n",
            "\n",
            "\u001b[1mTEST CASE #2\u001b[0m\n",
            "\n",
            "Input:\n",
            "{'nums': [1, 2, 3, 4, 5, 6, 7, 8]}\n",
            "\n",
            "Expected Output:\n",
            "0\n",
            "\n",
            "\n",
            "Actual Output:\n",
            "0\n",
            "\n",
            "Execution Time:\n",
            "0.008 ms\n",
            "\n",
            "Test Result:\n",
            "\u001b[92mPASSED\u001b[0m\n",
            "\n",
            "\n",
            "\u001b[1mTEST CASE #3\u001b[0m\n",
            "\n",
            "Input:\n",
            "{'nums': [8, 1, 2, 3, 4, 5, 6, 7]}\n",
            "\n",
            "Expected Output:\n",
            "1\n",
            "\n",
            "\n",
            "Actual Output:\n",
            "1\n",
            "\n",
            "Execution Time:\n",
            "0.007 ms\n",
            "\n",
            "Test Result:\n",
            "\u001b[92mPASSED\u001b[0m\n",
            "\n",
            "\n",
            "\u001b[1mTEST CASE #4\u001b[0m\n",
            "\n",
            "Input:\n",
            "{'nums': [8, 1, 2, 3, 4, 5, 6, 7]}\n",
            "\n",
            "Expected Output:\n",
            "1\n",
            "\n",
            "\n",
            "Actual Output:\n",
            "1\n",
            "\n",
            "Execution Time:\n",
            "0.006 ms\n",
            "\n",
            "Test Result:\n",
            "\u001b[92mPASSED\u001b[0m\n",
            "\n",
            "\n",
            "\u001b[1mTEST CASE #5\u001b[0m\n",
            "\n",
            "Input:\n",
            "{'nums': [1, 2, 3, 4, 5, 6, 7, 8]}\n",
            "\n",
            "Expected Output:\n",
            "0\n",
            "\n",
            "\n",
            "Actual Output:\n",
            "0\n",
            "\n",
            "Execution Time:\n",
            "0.015 ms\n",
            "\n",
            "Test Result:\n",
            "\u001b[92mPASSED\u001b[0m\n",
            "\n",
            "\n",
            "\u001b[1mTEST CASE #6\u001b[0m\n",
            "\n",
            "Input:\n",
            "{'nums': []}\n",
            "\n",
            "Expected Output:\n",
            "-1\n",
            "\n",
            "\n",
            "Actual Output:\n",
            "-1\n",
            "\n",
            "Execution Time:\n",
            "0.005 ms\n",
            "\n",
            "Test Result:\n",
            "\u001b[92mPASSED\u001b[0m\n",
            "\n",
            "\n",
            "\u001b[1mTEST CASE #7\u001b[0m\n",
            "\n",
            "Input:\n",
            "{'nums': [1]}\n",
            "\n",
            "Expected Output:\n",
            "0\n",
            "\n",
            "\n",
            "Actual Output:\n",
            "0\n",
            "\n",
            "Execution Time:\n",
            "0.005 ms\n",
            "\n",
            "Test Result:\n",
            "\u001b[92mPASSED\u001b[0m\n",
            "\n",
            "\n",
            "\u001b[1mSUMMARY\u001b[0m\n",
            "\n",
            "TOTAL: 8, \u001b[92mPASSED\u001b[0m: 8, \u001b[91mFAILED\u001b[0m: 0\n"
          ]
        },
        {
          "output_type": "execute_result",
          "data": {
            "text/plain": [
              "[(3, True, 0.016),\n",
              " (5, True, 0.007),\n",
              " (0, True, 0.008),\n",
              " (1, True, 0.007),\n",
              " (1, True, 0.006),\n",
              " (0, True, 0.015),\n",
              " (-1, True, 0.005),\n",
              " (0, True, 0.005)]"
            ]
          },
          "metadata": {},
          "execution_count": 41
        }
      ],
      "source": [
        "evaluate_test_cases(count_rotations_generic, tests)"
      ]
    },
    {
      "cell_type": "code",
      "execution_count": 42,
      "id": "closed-monday",
      "metadata": {
        "id": "closed-monday",
        "colab": {
          "base_uri": "https://localhost:8080/"
        },
        "outputId": "0fe4cf2b-0cf8-4468-acab-1611c4def5ea"
      },
      "outputs": [
        {
          "output_type": "stream",
          "name": "stdout",
          "text": [
            "[jovian] Detected Colab notebook...\u001b[0m\n",
            "[jovian] jovian.commit() is no longer required on Google Colab. If you ran this notebook from Jovian, \n",
            "then just save this file in Colab using Ctrl+S/Cmd+S and it will be updated on Jovian. \n",
            "Also, you can also delete this cell, it's no longer necessary.\u001b[0m\n"
          ]
        }
      ],
      "source": [
        "jovian.commit()"
      ]
    },
    {
      "cell_type": "markdown",
      "id": "realistic-assessment",
      "metadata": {
        "id": "realistic-assessment"
      },
      "source": [
        "Discuss your solution on the forum: https://jovian.ai/forum/c/data-structures-and-algorithms-in-python/assignment-1/87"
      ]
    },
    {
      "cell_type": "markdown",
      "id": "naughty-spotlight",
      "metadata": {
        "id": "naughty-spotlight"
      },
      "source": [
        "### Optional Bonus 2: Handling repeating numbers\n",
        "\n",
        "So far we've assumed that the numbers in the list are unique. What if the numbers can repeat? E.g. `[5, 6, 6, 9, 9, 9, 0, 0, 2, 3, 3, 3, 3, 4, 4]`. Can you modify your solution to handle this special case?\n",
        "\n",
        "\n",
        "_**Q (Optional): Create additional test cases where the list can contain repeating numbers**_"
      ]
    },
    {
      "cell_type": "code",
      "execution_count": 43,
      "id": "designed-stationery",
      "metadata": {
        "colab": {
          "base_uri": "https://localhost:8080/"
        },
        "id": "designed-stationery",
        "outputId": "f048a6cb-acba-42d9-cc63-4c1fc37341c3"
      },
      "outputs": [
        {
          "output_type": "stream",
          "name": "stdout",
          "text": [
            "[{'input': {'nums': [19, 25, 29, 3, 5, 6, 7, 9, 11, 14]}, 'output': 3}, {'input': {'nums': [4, 5, 6, 7, 8, 1, 2, 3]}, 'output': 5}, {'input': {'nums': [1, 2, 3, 4, 5, 6, 7, 8]}, 'output': 0}, {'input': {'nums': [8, 1, 2, 3, 4, 5, 6, 7]}, 'output': 1}, {'input': {'nums': [8, 1, 2, 3, 4, 5, 6, 7]}, 'output': 1}, {'input': {'nums': [1, 2, 3, 4, 5, 6, 7, 8]}, 'output': 0}, {'input': {'nums': []}, 'output': -1}, {'input': {'nums': [1]}, 'output': 0}]\n"
          ]
        }
      ],
      "source": [
        "extended_tests = list(tests)\n",
        "print(extended_tests)"
      ]
    },
    {
      "cell_type": "code",
      "execution_count": 44,
      "id": "reflected-backup",
      "metadata": {
        "id": "reflected-backup"
      },
      "outputs": [],
      "source": [
        "extended_tests.append({\n",
        "    'input': {'nums':[5, 5, 6, 6, 1, 2, 3, 3]},\n",
        "    'output':4\n",
        "\n",
        "})"
      ]
    },
    {
      "cell_type": "code",
      "execution_count": 45,
      "id": "rental-specific",
      "metadata": {
        "id": "rental-specific"
      },
      "outputs": [],
      "source": [
        "extended_tests.append({\n",
        "     'input': {'nums':[1, 1, 2, 2, 3, 3, 4, 4]},\n",
        "    'output':0\n",
        "\n",
        "})\n",
        "extended_tests.append({'input': {'nums': [5, 5, 6, 6, 1, 2, 3, 3]}, 'output': 4})  # Repeating at pivot\n",
        "extended_tests.append({'input': {'nums': [1, 1, 2, 2, 3, 3, 4, 4]}, 'output': 0}) # No rotation, all repeating\n",
        "extended_tests.append({'input': {'nums': [3, 3, 3, 1, 1, 2, 2]}, 'output': 3})    # Repeating before and after pivot\n",
        "extended_tests.append({'input': {'nums': [2, 2, 2, 2, 2, 2, 1]}, 'output': 6})    # Repeating, pivot at the end\n",
        "extended_tests.append({'input': {'nums': [1, 2, 2, 2, 2, 2, 2]}, 'output': 0})   # Repeating, pivot at the beginning"
      ]
    },
    {
      "cell_type": "code",
      "execution_count": 46,
      "id": "social-baker",
      "metadata": {
        "id": "social-baker"
      },
      "outputs": [],
      "source": [
        "# add more test cases if required"
      ]
    },
    {
      "cell_type": "code",
      "execution_count": 47,
      "id": "finnish-sudan",
      "metadata": {
        "id": "finnish-sudan",
        "colab": {
          "base_uri": "https://localhost:8080/"
        },
        "outputId": "d8f0a5b5-305f-4b94-ddd6-ed850343da09"
      },
      "outputs": [
        {
          "output_type": "stream",
          "name": "stdout",
          "text": [
            "[jovian] Detected Colab notebook...\u001b[0m\n",
            "[jovian] jovian.commit() is no longer required on Google Colab. If you ran this notebook from Jovian, \n",
            "then just save this file in Colab using Ctrl+S/Cmd+S and it will be updated on Jovian. \n",
            "Also, you can also delete this cell, it's no longer necessary.\u001b[0m\n"
          ]
        }
      ],
      "source": [
        "jovian.commit()"
      ]
    },
    {
      "cell_type": "markdown",
      "id": "freelance-kinase",
      "metadata": {
        "id": "freelance-kinase"
      },
      "source": [
        "_**Q (Optional): Modify your solution (if required) to handle the case where the list can contain repeating numbers.**_"
      ]
    },
    {
      "cell_type": "code",
      "execution_count": 48,
      "id": "vocational-revolution",
      "metadata": {
        "id": "vocational-revolution"
      },
      "outputs": [],
      "source": [
        "def count_rotations_generic(nums):\n",
        "    lo=0\n",
        "    hi=len(nums)-1\n",
        "    def condition(mid):\n",
        "      print(\"lo:\", lo, \", hi:\", hi, \", mid:\", mid, \", mid_number:\", nums[mid])\n",
        "      if mid >= 0 and ((nums[mid-1]>nums[mid] ) or len(nums)==1) :\n",
        "          # The middle position is the answer\n",
        "          return 'found'\n",
        "\n",
        "      elif mid > 0 and (nums[hi]>=nums[mid] ):\n",
        "          # Answer lies in the left half\n",
        "          return 'left'\n",
        "      else:\n",
        "          # Answer lies in the right half\n",
        "            return 'right'\n",
        "\n",
        "    return binary_search(lo, hi, condition)"
      ]
    },
    {
      "cell_type": "markdown",
      "id": "comic-metabolism",
      "metadata": {
        "id": "comic-metabolism"
      },
      "source": [
        "Test your function to make sure it works properly."
      ]
    },
    {
      "cell_type": "code",
      "execution_count": 49,
      "id": "unlike-offset",
      "metadata": {
        "colab": {
          "base_uri": "https://localhost:8080/"
        },
        "id": "unlike-offset",
        "outputId": "3f1e8c2e-6966-446b-8c02-00826d711bb1"
      },
      "outputs": [
        {
          "output_type": "stream",
          "name": "stdout",
          "text": [
            "\n",
            "\u001b[1mTEST CASE #0\u001b[0m\n",
            "lo: 0 , hi: 9 , mid: 4 , mid_number: 5\n",
            "lo: 0 , hi: 9 , mid: 1 , mid_number: 25\n",
            "lo: 0 , hi: 9 , mid: 2 , mid_number: 29\n",
            "lo: 0 , hi: 9 , mid: 3 , mid_number: 3\n",
            "\n",
            "Input:\n",
            "{'nums': [19, 25, 29, 3, 5, 6, 7, 9, 11, 14]}\n",
            "\n",
            "Expected Output:\n",
            "3\n",
            "\n",
            "\n",
            "Actual Output:\n",
            "3\n",
            "\n",
            "Execution Time:\n",
            "0.79 ms\n",
            "\n",
            "Test Result:\n",
            "\u001b[92mPASSED\u001b[0m\n",
            "\n",
            "\n",
            "\u001b[1mTEST CASE #1\u001b[0m\n",
            "lo: 0 , hi: 7 , mid: 3 , mid_number: 7\n",
            "lo: 0 , hi: 7 , mid: 5 , mid_number: 1\n",
            "\n",
            "Input:\n",
            "{'nums': [4, 5, 6, 7, 8, 1, 2, 3]}\n",
            "\n",
            "Expected Output:\n",
            "5\n",
            "\n",
            "\n",
            "Actual Output:\n",
            "5\n",
            "\n",
            "Execution Time:\n",
            "0.334 ms\n",
            "\n",
            "Test Result:\n",
            "\u001b[92mPASSED\u001b[0m\n",
            "\n",
            "\n",
            "\u001b[1mTEST CASE #2\u001b[0m\n",
            "lo: 0 , hi: 7 , mid: 3 , mid_number: 4\n",
            "lo: 0 , hi: 7 , mid: 1 , mid_number: 2\n",
            "lo: 0 , hi: 7 , mid: 0 , mid_number: 1\n",
            "\n",
            "Input:\n",
            "{'nums': [1, 2, 3, 4, 5, 6, 7, 8]}\n",
            "\n",
            "Expected Output:\n",
            "0\n",
            "\n",
            "\n",
            "Actual Output:\n",
            "0\n",
            "\n",
            "Execution Time:\n",
            "0.475 ms\n",
            "\n",
            "Test Result:\n",
            "\u001b[92mPASSED\u001b[0m\n",
            "\n",
            "\n",
            "\u001b[1mTEST CASE #3\u001b[0m\n",
            "lo: 0 , hi: 7 , mid: 3 , mid_number: 3\n",
            "lo: 0 , hi: 7 , mid: 1 , mid_number: 1\n",
            "\n",
            "Input:\n",
            "{'nums': [8, 1, 2, 3, 4, 5, 6, 7]}\n",
            "\n",
            "Expected Output:\n",
            "1\n",
            "\n",
            "\n",
            "Actual Output:\n",
            "1\n",
            "\n",
            "Execution Time:\n",
            "0.254 ms\n",
            "\n",
            "Test Result:\n",
            "\u001b[92mPASSED\u001b[0m\n",
            "\n",
            "\n",
            "\u001b[1mTEST CASE #4\u001b[0m\n",
            "lo: 0 , hi: 7 , mid: 3 , mid_number: 3\n",
            "lo: 0 , hi: 7 , mid: 1 , mid_number: 1\n",
            "\n",
            "Input:\n",
            "{'nums': [8, 1, 2, 3, 4, 5, 6, 7]}\n",
            "\n",
            "Expected Output:\n",
            "1\n",
            "\n",
            "\n",
            "Actual Output:\n",
            "1\n",
            "\n",
            "Execution Time:\n",
            "0.578 ms\n",
            "\n",
            "Test Result:\n",
            "\u001b[92mPASSED\u001b[0m\n",
            "\n",
            "\n",
            "\u001b[1mTEST CASE #5\u001b[0m\n",
            "lo: 0 , hi: 7 , mid: 3 , mid_number: 4\n",
            "lo: 0 , hi: 7 , mid: 1 , mid_number: 2\n",
            "lo: 0 , hi: 7 , mid: 0 , mid_number: 1\n",
            "\n",
            "Input:\n",
            "{'nums': [1, 2, 3, 4, 5, 6, 7, 8]}\n",
            "\n",
            "Expected Output:\n",
            "0\n",
            "\n",
            "\n",
            "Actual Output:\n",
            "0\n",
            "\n",
            "Execution Time:\n",
            "0.538 ms\n",
            "\n",
            "Test Result:\n",
            "\u001b[92mPASSED\u001b[0m\n",
            "\n",
            "\n",
            "\u001b[1mTEST CASE #6\u001b[0m\n",
            "\n",
            "Input:\n",
            "{'nums': []}\n",
            "\n",
            "Expected Output:\n",
            "-1\n",
            "\n",
            "\n",
            "Actual Output:\n",
            "-1\n",
            "\n",
            "Execution Time:\n",
            "0.006 ms\n",
            "\n",
            "Test Result:\n",
            "\u001b[92mPASSED\u001b[0m\n",
            "\n",
            "\n",
            "\u001b[1mTEST CASE #7\u001b[0m\n",
            "lo: 0 , hi: 0 , mid: 0 , mid_number: 1\n",
            "\n",
            "Input:\n",
            "{'nums': [1]}\n",
            "\n",
            "Expected Output:\n",
            "0\n",
            "\n",
            "\n",
            "Actual Output:\n",
            "0\n",
            "\n",
            "Execution Time:\n",
            "0.114 ms\n",
            "\n",
            "Test Result:\n",
            "\u001b[92mPASSED\u001b[0m\n",
            "\n",
            "\n",
            "\u001b[1mTEST CASE #8\u001b[0m\n",
            "lo: 0 , hi: 7 , mid: 3 , mid_number: 6\n",
            "lo: 0 , hi: 7 , mid: 5 , mid_number: 2\n",
            "lo: 0 , hi: 7 , mid: 4 , mid_number: 1\n",
            "\n",
            "Input:\n",
            "{'nums': [5, 5, 6, 6, 1, 2, 3, 3]}\n",
            "\n",
            "Expected Output:\n",
            "4\n",
            "\n",
            "\n",
            "Actual Output:\n",
            "4\n",
            "\n",
            "Execution Time:\n",
            "0.399 ms\n",
            "\n",
            "Test Result:\n",
            "\u001b[92mPASSED\u001b[0m\n",
            "\n",
            "\n",
            "\u001b[1mTEST CASE #9\u001b[0m\n",
            "lo: 0 , hi: 7 , mid: 3 , mid_number: 2\n",
            "lo: 0 , hi: 7 , mid: 1 , mid_number: 1\n",
            "lo: 0 , hi: 7 , mid: 0 , mid_number: 1\n",
            "\n",
            "Input:\n",
            "{'nums': [1, 1, 2, 2, 3, 3, 4, 4]}\n",
            "\n",
            "Expected Output:\n",
            "0\n",
            "\n",
            "\n",
            "Actual Output:\n",
            "0\n",
            "\n",
            "Execution Time:\n",
            "0.339 ms\n",
            "\n",
            "Test Result:\n",
            "\u001b[92mPASSED\u001b[0m\n",
            "\n",
            "\n",
            "\u001b[1mTEST CASE #10\u001b[0m\n",
            "lo: 0 , hi: 7 , mid: 3 , mid_number: 6\n",
            "lo: 0 , hi: 7 , mid: 5 , mid_number: 2\n",
            "lo: 0 , hi: 7 , mid: 4 , mid_number: 1\n",
            "\n",
            "Input:\n",
            "{'nums': [5, 5, 6, 6, 1, 2, 3, 3]}\n",
            "\n",
            "Expected Output:\n",
            "4\n",
            "\n",
            "\n",
            "Actual Output:\n",
            "4\n",
            "\n",
            "Execution Time:\n",
            "12.045 ms\n",
            "\n",
            "Test Result:\n",
            "\u001b[92mPASSED\u001b[0m\n",
            "\n",
            "\n",
            "\u001b[1mTEST CASE #11\u001b[0m\n",
            "lo: 0 , hi: 7 , mid: 3 , mid_number: 2\n",
            "lo: 0 , hi: 7 , mid: 1 , mid_number: 1\n",
            "lo: 0 , hi: 7 , mid: 0 , mid_number: 1\n",
            "\n",
            "Input:\n",
            "{'nums': [1, 1, 2, 2, 3, 3, 4, 4]}\n",
            "\n",
            "Expected Output:\n",
            "0\n",
            "\n",
            "\n",
            "Actual Output:\n",
            "0\n",
            "\n",
            "Execution Time:\n",
            "0.33 ms\n",
            "\n",
            "Test Result:\n",
            "\u001b[92mPASSED\u001b[0m\n",
            "\n",
            "\n",
            "\u001b[1mTEST CASE #12\u001b[0m\n",
            "lo: 0 , hi: 6 , mid: 3 , mid_number: 1\n",
            "\n",
            "Input:\n",
            "{'nums': [3, 3, 3, 1, 1, 2, 2]}\n",
            "\n",
            "Expected Output:\n",
            "3\n",
            "\n",
            "\n",
            "Actual Output:\n",
            "3\n",
            "\n",
            "Execution Time:\n",
            "0.122 ms\n",
            "\n",
            "Test Result:\n",
            "\u001b[92mPASSED\u001b[0m\n",
            "\n",
            "\n",
            "\u001b[1mTEST CASE #13\u001b[0m\n",
            "lo: 0 , hi: 6 , mid: 3 , mid_number: 2\n",
            "lo: 0 , hi: 6 , mid: 5 , mid_number: 2\n",
            "lo: 0 , hi: 6 , mid: 6 , mid_number: 1\n",
            "\n",
            "Input:\n",
            "{'nums': [2, 2, 2, 2, 2, 2, 1]}\n",
            "\n",
            "Expected Output:\n",
            "6\n",
            "\n",
            "\n",
            "Actual Output:\n",
            "6\n",
            "\n",
            "Execution Time:\n",
            "0.396 ms\n",
            "\n",
            "Test Result:\n",
            "\u001b[92mPASSED\u001b[0m\n",
            "\n",
            "\n",
            "\u001b[1mTEST CASE #14\u001b[0m\n",
            "lo: 0 , hi: 6 , mid: 3 , mid_number: 2\n",
            "lo: 0 , hi: 6 , mid: 1 , mid_number: 2\n",
            "lo: 0 , hi: 6 , mid: 0 , mid_number: 1\n",
            "\n",
            "Input:\n",
            "{'nums': [1, 2, 2, 2, 2, 2, 2]}\n",
            "\n",
            "Expected Output:\n",
            "0\n",
            "\n",
            "\n",
            "Actual Output:\n",
            "0\n",
            "\n",
            "Execution Time:\n",
            "0.326 ms\n",
            "\n",
            "Test Result:\n",
            "\u001b[92mPASSED\u001b[0m\n",
            "\n",
            "\n",
            "\u001b[1mSUMMARY\u001b[0m\n",
            "\n",
            "TOTAL: 15, \u001b[92mPASSED\u001b[0m: 15, \u001b[91mFAILED\u001b[0m: 0\n"
          ]
        },
        {
          "output_type": "execute_result",
          "data": {
            "text/plain": [
              "[(3, True, 0.79),\n",
              " (5, True, 0.334),\n",
              " (0, True, 0.475),\n",
              " (1, True, 0.254),\n",
              " (1, True, 0.578),\n",
              " (0, True, 0.538),\n",
              " (-1, True, 0.006),\n",
              " (0, True, 0.114),\n",
              " (4, True, 0.399),\n",
              " (0, True, 0.339),\n",
              " (4, True, 12.045),\n",
              " (0, True, 0.33),\n",
              " (3, True, 0.122),\n",
              " (6, True, 0.396),\n",
              " (0, True, 0.326)]"
            ]
          },
          "metadata": {},
          "execution_count": 49
        }
      ],
      "source": [
        "evaluate_test_cases(count_rotations_generic, extended_tests)"
      ]
    },
    {
      "cell_type": "code",
      "execution_count": 49,
      "id": "pregnant-roommate",
      "metadata": {
        "id": "pregnant-roommate"
      },
      "outputs": [],
      "source": []
    },
    {
      "cell_type": "markdown",
      "id": "center-solid",
      "metadata": {
        "id": "center-solid"
      },
      "source": [
        "Discuss your solution on the forum: https://jovian.ai/forum/c/data-structures-and-algorithms-in-python/assignment-1/87"
      ]
    },
    {
      "cell_type": "markdown",
      "id": "intermediate-mailman",
      "metadata": {
        "id": "intermediate-mailman"
      },
      "source": [
        "### Optional Bonus 3: Searching in a Rotated List\n",
        "\n",
        "Here's a slightly advanced extension to this problem:\n",
        "\n",
        "> You are given list of numbers, obtained by rotating a sorted list an unknown number of times. You are also given a target number. Write a function to find the position of the target number within the rotated list. You can assume that all the numbers in the list are unique.\n",
        ">\n",
        "> Example: In the rotated sorted list `[5, 6, 9, 0, 2, 3, 4]`, the target number `2` occurs at position `5`."
      ]
    },
    {
      "cell_type": "markdown",
      "id": "happy-attack",
      "metadata": {
        "id": "happy-attack"
      },
      "source": [
        "**Q (Optional): Create some test cases for the above problem.**"
      ]
    },
    {
      "cell_type": "code",
      "execution_count": 50,
      "id": "efficient-coffee",
      "metadata": {
        "id": "efficient-coffee"
      },
      "outputs": [],
      "source": [
        "tests2 = []"
      ]
    },
    {
      "cell_type": "code",
      "execution_count": 51,
      "id": "wicked-junior",
      "metadata": {
        "id": "wicked-junior"
      },
      "outputs": [],
      "source": [
        "# add test cases here"
      ]
    },
    {
      "cell_type": "code",
      "execution_count": 52,
      "id": "threaded-piano",
      "metadata": {
        "id": "threaded-piano"
      },
      "outputs": [],
      "source": [
        "# prompt: generate test case and add in tests2: You are given list of numbers, obtained by rotating a sorted list an unknown number of times. You are also given a target number. Write a function to find the position of the target number within the rotated list. You can assume that all the numbers in the list are unique.\n",
        "# Example: In the rotated sorted list [5, 6, 9, 0, 2, 3, 4], the target number 2 occurs at position 5.\n",
        "\n",
        "tests2 = []\n",
        "tests2.append({'input': {'nums': [5, 6, 9, 0, 2, 3, 4], 'target': 2}, 'output': 4})\n",
        "tests2.append({'input': {'nums': [5, 6, 9, 0, 2, 3, 4], 'target': 0}, 'output': 3})\n",
        "tests2.append({'input': {'nums': [5, 6, 9, 0, 2, 3, 4], 'target': 5}, 'output': 0})\n",
        "tests2.append({'input': {'nums': [5, 6, 9, 0, 2, 3, 4], 'target': 9}, 'output': 2})\n",
        "tests2.append({'input': {'nums': [5, 6, 9, 0, 2, 3, 4], 'target': 4}, 'output': 6})\n",
        "tests2.append({'input': {'nums': [5, 6, 9, 0, 2, 3, 4], 'target': 7}, 'output': -1})\n",
        "tests2.append({'input': {'nums': [], 'target': 2}, 'output': -1})\n",
        "tests2.append({'input': {'nums': [1], 'target': 1}, 'output': 0})\n",
        "tests2.append({'input': {'nums': [1], 'target': 2}, 'output': -1})"
      ]
    },
    {
      "cell_type": "markdown",
      "id": "still-presentation",
      "metadata": {
        "id": "still-presentation"
      },
      "source": [
        "**Q (Optional): Implement a solution to the above problem using binary search.**\n",
        "\n",
        "_HINT:_ One way to solve this problem is to identify two sorted subarrays within the given array (using the `count_rotations_binary` function defined above), then perform a binary search on each subarray to determine the position of the target element. Another way is to modify `count_rotations_binary` to solve the problem directly."
      ]
    },
    {
      "cell_type": "code",
      "execution_count": 62,
      "id": "great-peter",
      "metadata": {
        "id": "great-peter"
      },
      "outputs": [],
      "source": [
        "def find_element(nums, target):\n",
        "    lo=0\n",
        "    hi=len(nums)-1\n",
        "    def condition(mid):\n",
        "      print(\"lo:\", lo, \", hi:\", hi, \", mid:\", mid, \", mid_number:\", nums[mid])\n",
        "      if mid >= 0 and (target==nums[mid] ) :\n",
        "          # The middle position is the answer\n",
        "          return 'found'\n",
        "      if nums[lo] <= nums[mid]:  # Left half is sorted\n",
        "            if nums[lo] <= target < nums[mid]:  # Target is in the left half\n",
        "                return 'left'\n",
        "            else:  # Target is in the right half\n",
        "                return 'right'\n",
        "      else:  # Right half is sorted\n",
        "            if nums[mid] < target <= nums[hi]:  # Target is in the right half\n",
        "                return 'right'\n",
        "            else:  # Target is in the left half\n",
        "                return 'left'\n",
        "\n",
        "    return binary_search(lo, hi, condition)"
      ]
    },
    {
      "cell_type": "markdown",
      "id": "initial-arthur",
      "metadata": {
        "id": "initial-arthur"
      },
      "source": [
        "Test your solution using the cells below."
      ]
    },
    {
      "cell_type": "code",
      "execution_count": 63,
      "id": "duplicate-separate",
      "metadata": {
        "id": "duplicate-separate",
        "colab": {
          "base_uri": "https://localhost:8080/"
        },
        "outputId": "026c14b9-18da-48bd-c0cc-bf762ea0e396"
      },
      "outputs": [
        {
          "output_type": "stream",
          "name": "stdout",
          "text": [
            "\n",
            "\u001b[1mTEST CASE #0\u001b[0m\n",
            "lo: 0 , hi: 6 , mid: 3 , mid_number: 0\n",
            "lo: 0 , hi: 6 , mid: 5 , mid_number: 3\n",
            "lo: 0 , hi: 6 , mid: 4 , mid_number: 2\n",
            "\n",
            "Input:\n",
            "{'nums': [5, 6, 9, 0, 2, 3, 4], 'target': 2}\n",
            "\n",
            "Expected Output:\n",
            "4\n",
            "\n",
            "\n",
            "Actual Output:\n",
            "4\n",
            "\n",
            "Execution Time:\n",
            "3.452 ms\n",
            "\n",
            "Test Result:\n",
            "\u001b[92mPASSED\u001b[0m\n",
            "\n",
            "\n",
            "\u001b[1mTEST CASE #1\u001b[0m\n",
            "lo: 0 , hi: 6 , mid: 3 , mid_number: 0\n",
            "\n",
            "Input:\n",
            "{'nums': [5, 6, 9, 0, 2, 3, 4], 'target': 0}\n",
            "\n",
            "Expected Output:\n",
            "3\n",
            "\n",
            "\n",
            "Actual Output:\n",
            "3\n",
            "\n",
            "Execution Time:\n",
            "0.124 ms\n",
            "\n",
            "Test Result:\n",
            "\u001b[92mPASSED\u001b[0m\n",
            "\n",
            "\n",
            "\u001b[1mTEST CASE #2\u001b[0m\n",
            "lo: 0 , hi: 6 , mid: 3 , mid_number: 0\n",
            "lo: 0 , hi: 6 , mid: 1 , mid_number: 6\n",
            "lo: 0 , hi: 6 , mid: 0 , mid_number: 5\n",
            "\n",
            "Input:\n",
            "{'nums': [5, 6, 9, 0, 2, 3, 4], 'target': 5}\n",
            "\n",
            "Expected Output:\n",
            "0\n",
            "\n",
            "\n",
            "Actual Output:\n",
            "0\n",
            "\n",
            "Execution Time:\n",
            "0.32 ms\n",
            "\n",
            "Test Result:\n",
            "\u001b[92mPASSED\u001b[0m\n",
            "\n",
            "\n",
            "\u001b[1mTEST CASE #3\u001b[0m\n",
            "lo: 0 , hi: 6 , mid: 3 , mid_number: 0\n",
            "lo: 0 , hi: 6 , mid: 1 , mid_number: 6\n",
            "lo: 0 , hi: 6 , mid: 2 , mid_number: 9\n",
            "\n",
            "Input:\n",
            "{'nums': [5, 6, 9, 0, 2, 3, 4], 'target': 9}\n",
            "\n",
            "Expected Output:\n",
            "2\n",
            "\n",
            "\n",
            "Actual Output:\n",
            "2\n",
            "\n",
            "Execution Time:\n",
            "0.345 ms\n",
            "\n",
            "Test Result:\n",
            "\u001b[92mPASSED\u001b[0m\n",
            "\n",
            "\n",
            "\u001b[1mTEST CASE #4\u001b[0m\n",
            "lo: 0 , hi: 6 , mid: 3 , mid_number: 0\n",
            "lo: 0 , hi: 6 , mid: 5 , mid_number: 3\n",
            "lo: 0 , hi: 6 , mid: 6 , mid_number: 4\n",
            "\n",
            "Input:\n",
            "{'nums': [5, 6, 9, 0, 2, 3, 4], 'target': 4}\n",
            "\n",
            "Expected Output:\n",
            "6\n",
            "\n",
            "\n",
            "Actual Output:\n",
            "6\n",
            "\n",
            "Execution Time:\n",
            "0.548 ms\n",
            "\n",
            "Test Result:\n",
            "\u001b[92mPASSED\u001b[0m\n",
            "\n",
            "\n",
            "\u001b[1mTEST CASE #5\u001b[0m\n",
            "lo: 0 , hi: 6 , mid: 3 , mid_number: 0\n",
            "lo: 0 , hi: 6 , mid: 1 , mid_number: 6\n",
            "lo: 0 , hi: 6 , mid: 2 , mid_number: 9\n",
            "\n",
            "Input:\n",
            "{'nums': [5, 6, 9, 0, 2, 3, 4], 'target': 7}\n",
            "\n",
            "Expected Output:\n",
            "-1\n",
            "\n",
            "\n",
            "Actual Output:\n",
            "-1\n",
            "\n",
            "Execution Time:\n",
            "18.477 ms\n",
            "\n",
            "Test Result:\n",
            "\u001b[92mPASSED\u001b[0m\n",
            "\n",
            "\n",
            "\u001b[1mTEST CASE #6\u001b[0m\n",
            "\n",
            "Input:\n",
            "{'nums': [], 'target': 2}\n",
            "\n",
            "Expected Output:\n",
            "-1\n",
            "\n",
            "\n",
            "Actual Output:\n",
            "-1\n",
            "\n",
            "Execution Time:\n",
            "0.01 ms\n",
            "\n",
            "Test Result:\n",
            "\u001b[92mPASSED\u001b[0m\n",
            "\n",
            "\n",
            "\u001b[1mTEST CASE #7\u001b[0m\n",
            "lo: 0 , hi: 0 , mid: 0 , mid_number: 1\n",
            "\n",
            "Input:\n",
            "{'nums': [1], 'target': 1}\n",
            "\n",
            "Expected Output:\n",
            "0\n",
            "\n",
            "\n",
            "Actual Output:\n",
            "0\n",
            "\n",
            "Execution Time:\n",
            "0.209 ms\n",
            "\n",
            "Test Result:\n",
            "\u001b[92mPASSED\u001b[0m\n",
            "\n",
            "\n",
            "\u001b[1mTEST CASE #8\u001b[0m\n",
            "lo: 0 , hi: 0 , mid: 0 , mid_number: 1\n",
            "\n",
            "Input:\n",
            "{'nums': [1], 'target': 2}\n",
            "\n",
            "Expected Output:\n",
            "-1\n",
            "\n",
            "\n",
            "Actual Output:\n",
            "-1\n",
            "\n",
            "Execution Time:\n",
            "0.198 ms\n",
            "\n",
            "Test Result:\n",
            "\u001b[92mPASSED\u001b[0m\n",
            "\n",
            "\n",
            "\u001b[1mSUMMARY\u001b[0m\n",
            "\n",
            "TOTAL: 9, \u001b[92mPASSED\u001b[0m: 9, \u001b[91mFAILED\u001b[0m: 0\n"
          ]
        },
        {
          "output_type": "execute_result",
          "data": {
            "text/plain": [
              "[(4, True, 3.452),\n",
              " (3, True, 0.124),\n",
              " (0, True, 0.32),\n",
              " (2, True, 0.345),\n",
              " (6, True, 0.548),\n",
              " (-1, True, 18.477),\n",
              " (-1, True, 0.01),\n",
              " (0, True, 0.209),\n",
              " (-1, True, 0.198)]"
            ]
          },
          "metadata": {},
          "execution_count": 63
        }
      ],
      "source": [
        "evaluate_test_cases(find_element, tests2)"
      ]
    },
    {
      "cell_type": "markdown",
      "source": [],
      "metadata": {
        "id": "zB7D_zEGe0MQ"
      },
      "id": "zB7D_zEGe0MQ"
    },
    {
      "cell_type": "markdown",
      "id": "choice-utilization",
      "metadata": {
        "id": "choice-utilization"
      },
      "source": [
        "You can test your solution to the above problem here: https://leetcode.com/problems/search-in-rotated-sorted-array/\n",
        "\n",
        "Discuss your approach on the forum: https://jovian.ai/forum/c/data-structures-and-algorithms-in-python/assignment-1/87"
      ]
    },
    {
      "cell_type": "code",
      "execution_count": null,
      "id": "useful-bhutan",
      "metadata": {
        "id": "useful-bhutan"
      },
      "outputs": [],
      "source": [
        "jovian.commit()"
      ]
    }
  ],
  "metadata": {
    "kernelspec": {
      "display_name": "Python 3",
      "language": "python",
      "name": "python3"
    },
    "language_info": {
      "codemirror_mode": {
        "name": "ipython",
        "version": 3
      },
      "file_extension": ".py",
      "mimetype": "text/x-python",
      "name": "python",
      "nbconvert_exporter": "python",
      "pygments_lexer": "ipython3",
      "version": "3.6.12"
    },
    "colab": {
      "provenance": [],
      "include_colab_link": true
    }
  },
  "nbformat": 4,
  "nbformat_minor": 5
}